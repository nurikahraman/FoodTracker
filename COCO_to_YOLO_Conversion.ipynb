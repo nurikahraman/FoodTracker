{
  "nbformat": 4,
  "nbformat_minor": 0,
  "metadata": {
    "colab": {
      "provenance": [],
      "collapsed_sections": [
        "G-RpiJzjJYYV"
      ],
      "authorship_tag": "ABX9TyNvB/RW3HWsYIB9Z0qT2A+v",
      "include_colab_link": true
    },
    "kernelspec": {
      "name": "python3",
      "display_name": "Python 3"
    },
    "language_info": {
      "name": "python"
    }
  },
  "cells": [
    {
      "cell_type": "markdown",
      "metadata": {
        "id": "view-in-github",
        "colab_type": "text"
      },
      "source": [
        "<a href=\"https://colab.research.google.com/github/nurikahraman/FoodTracker/blob/main/COCO_to_YOLO_Conversion.ipynb\" target=\"_parent\"><img src=\"https://colab.research.google.com/assets/colab-badge.svg\" alt=\"Open In Colab\"/></a>"
      ]
    },
    {
      "cell_type": "markdown",
      "source": [
        "#             ♻**COCO to YOLO Conversion**"
      ],
      "metadata": {
        "id": "9gd0vRbfZCMy"
      }
    },
    {
      "cell_type": "markdown",
      "source": [
        "# **Google Drive, Klasör Konum Ayarlamaları**"
      ],
      "metadata": {
        "id": "_AM8rEoVL72V"
      }
    },
    {
      "cell_type": "code",
      "source": [
        "!echo \"Google Drive deposu baglaniyor...\"\n",
        "from google.colab import drive\n",
        "drive.mount('/content/drive')\n",
        "\n",
        "#Datasets (This gets downloaded in \"/content/foodChallenge/data\")\n",
        "!echo \"🗄 Preparing the validation dataset...\"\n",
        "!unzip -q \"/content/drive/MyDrive/Colab Notebooks/content/FoodRecognitionChallenge/val.zip\" -d \"/content/dataset/val\"\n",
        "\n",
        "!echo \"🗄 Preparing the dataset for training...\"\n",
        "!unzip -q \"/content/drive/MyDrive/Colab Notebooks/content/FoodRecognitionChallenge/train.zip\" -d \"/content/dataset/train\""
      ],
      "metadata": {
        "colab": {
          "base_uri": "https://localhost:8080/"
        },
        "id": "GuahFZujdGkO",
        "outputId": "cfbd36bd-f827-44cb-8b1c-3ffb4583ab4f"
      },
      "execution_count": 15,
      "outputs": [
        {
          "output_type": "stream",
          "name": "stdout",
          "text": [
            "Google Drive deposu baglaniyor...\n",
            "Drive already mounted at /content/drive; to attempt to forcibly remount, call drive.mount(\"/content/drive\", force_remount=True).\n",
            "🗄 Preparing the validation dataset...\n",
            "replace /content/dataset/val/annotations.json? [y]es, [n]o, [A]ll, [N]one, [r]ename: n\n",
            "replace /content/dataset/val/images/006452.jpg? [y]es, [n]o, [A]ll, [N]one, [r]ename: 🗄 Preparing the dataset for training...\n",
            "replace /content/dataset/train/annotations.json? [y]es, [n]o, [A]ll, [N]one, [r]ename: \n",
            "COCO json dosyası konumu ve YOLO dosyası formatı çıktı konum ayarı.\n",
            "\n"
          ]
        }
      ]
    },
    {
      "cell_type": "code",
      "source": [
        "!echo \"\"\n",
        "!echo \"COCO json dosyası konumu / YOLO formatlı çıktı konumu ayarlandı.\"\n",
        "!echo \"\"\n",
        "\n",
        "!mkdir -p '/content/dataset/val'\n",
        "!mkdir -p '/content/dataset/train'\n",
        "!mkdir -p '/content/dataset/YOLO_Dataset/train/images'\n",
        "!mkdir -p '/content/dataset/YOLO_Dataset/train/labels'\n",
        "!mkdir -p '/content/dataset/YOLO_Dataset/val/images'\n",
        "!mkdir -p '/content/dataset/YOLO_Dataset/val/labels'\n",
        "!mkdir -p '/content/dataset/YOLO_Dataset/test/images'\n",
        "!mkdir -p '/content/dataset/YOLO_Dataset/test/labels'\n",
        "!mkdir -p \"/content/drive/MyDrive/Colab Notebooks/Aptal Buzdolabı/outputs/yolo_dataset/\"\n",
        "\n",
        "input_path = \"/content/dataset/\"\n",
        "output_path = \"/content/dataset/YOLO_Dataset/\"\n",
        "train_images = \"/content/dataset/train/images/\"\n",
        "COCO_Dataset = \"/content/dataset/train/annotations.json\""
      ],
      "metadata": {
        "colab": {
          "base_uri": "https://localhost:8080/"
        },
        "id": "Pv8om46BNuYD",
        "outputId": "2849d380-9e2c-4799-f47f-72612765f94c"
      },
      "execution_count": 33,
      "outputs": [
        {
          "output_type": "stream",
          "name": "stdout",
          "text": [
            "\n",
            "COCO json dosyası konumu ve YOLO dosyası formatı çıktı konum ayarı.\n",
            "\n"
          ]
        }
      ]
    },
    {
      "cell_type": "markdown",
      "source": [
        "# **Convert Routines**\n",
        "Kaynak:\n",
        "https://medium.com/red-buffer/converting-a-custom-dataset-from-coco-format-to-yolo-format-6d98a4fd43fc"
      ],
      "metadata": {
        "id": "hNQG7_6vJywS"
      }
    },
    {
      "cell_type": "code",
      "source": [
        "#@title ÖN KURULUM\n",
        "import json\n",
        "import cv2\n",
        "import os\n",
        "import matplotlib.pyplot as plt\n",
        "import shutil"
      ],
      "metadata": {
        "id": "je7igG6NMbvn"
      },
      "execution_count": 34,
      "outputs": []
    },
    {
      "cell_type": "code",
      "source": [
        "#@title JSON Ek Açıklama dosyasını okuma\n",
        "!echo \"JSON Ek Açıklama dosyası okundu\"\n",
        "f = open(COCO_Dataset)\n",
        "data = json.load(f)\n",
        "f.close()"
      ],
      "metadata": {
        "colab": {
          "base_uri": "https://localhost:8080/"
        },
        "id": "CYxZ6DE-aNsI",
        "outputId": "985a8169-1789-4134-d0d9-825a6170b7a7"
      },
      "execution_count": 35,
      "outputs": [
        {
          "output_type": "stream",
          "name": "stdout",
          "text": [
            "JSON Ek Açıklama dosyası okundu\n"
          ]
        }
      ]
    },
    {
      "cell_type": "code",
      "source": [
        "#@title Görüntülerin İşlenmesi\n",
        "!echo \"Görüntülerin İşlenmesi\"\n",
        "\n",
        "file_names = []\n",
        "\n",
        "def load_images_from_folder(folder):\n",
        "  count = 0\n",
        "  for filename in os.listdir(folder):\n",
        "        source = os.path.join(folder,filename)\n",
        "        destination = f\"{output_path}images/img{count}.jpg\"\n",
        "\n",
        "        try:\n",
        "            shutil.copy(source, destination)\n",
        "            print(count, \"File copied successfully.\")\n",
        "        # If source and destination are same\n",
        "        except shutil.SameFileError:\n",
        "            print(\"Source and destination represents the same file.\")\n",
        "\n",
        "        file_names.append(filename)\n",
        "        count += 1\n",
        "\n",
        "load_images_from_folder(train_images)"
      ],
      "metadata": {
        "id": "Cgbx1ufBa8q3"
      },
      "execution_count": null,
      "outputs": []
    },
    {
      "cell_type": "code",
      "source": [
        "#@title Yardımcı İşlevler\n",
        "def get_img_ann(image_id):\n",
        "    img_ann = []\n",
        "    isFound = False\n",
        "    for ann in data['annotations']:\n",
        "        if ann['image_id'] == image_id:\n",
        "            img_ann.append(ann)\n",
        "            isFound = True\n",
        "    if isFound:\n",
        "        return img_ann\n",
        "    else:\n",
        "        return None"
      ],
      "metadata": {
        "id": "wziQsr9Ehocg"
      },
      "execution_count": 36,
      "outputs": []
    },
    {
      "cell_type": "code",
      "source": [
        "def get_img(filename):\n",
        "  for img in data['images']:\n",
        "    if img['file_name'] == filename:\n",
        "      return img"
      ],
      "metadata": {
        "id": "zMCCS9Woh4ee"
      },
      "execution_count": 37,
      "outputs": []
    },
    {
      "cell_type": "code",
      "source": [
        "count = 0\n",
        "\n",
        "for filename in file_names:\n",
        "  # Extracting image\n",
        "  img = get_img(filename)\n",
        "  img_id = img['id']\n",
        "  img_w = img['width']\n",
        "  img_h = img['height']\n",
        "\n",
        "  # Get Annotations for this image\n",
        "  img_ann = get_img_ann(img_id)\n",
        "\n",
        "  if img_ann:\n",
        "    # Opening file for current image\n",
        "    file_object = open(f\"{output_path}labels/img{count}.txt\", \"a\")\n",
        "\n",
        "    for ann in img_ann:\n",
        "      current_category = ann['category_id'] - 1 # As yolo format labels start from 0\n",
        "      current_bbox = ann['bbox']\n",
        "      x = current_bbox[0]\n",
        "      y = current_bbox[1]\n",
        "      w = current_bbox[2]\n",
        "      h = current_bbox[3]\n",
        "\n",
        "      # Finding midpoints\n",
        "      x_centre = (x + (x+w))/2\n",
        "      y_centre = (y + (y+h))/2\n",
        "\n",
        "      # Normalization\n",
        "      x_centre = x_centre / img_w\n",
        "      y_centre = y_centre / img_h\n",
        "      w = w / img_w\n",
        "      h = h / img_h\n",
        "\n",
        "      # Limiting upto fix number of decimal places\n",
        "      x_centre = format(x_centre, '.6f')\n",
        "      y_centre = format(y_centre, '.6f')\n",
        "      w = format(w, '.6f')\n",
        "      h = format(h, '.6f')\n",
        "\n",
        "      # Writing current object\n",
        "      file_object.write(f\"{current_category} {x_centre} {y_centre} {w} {h}\\n\")\n",
        "\n",
        "    file_object.close()\n",
        "    count += 1  # This should be outside the if img_ann block."
      ],
      "metadata": {
        "id": "ZnTriUZ-iBGn"
      },
      "execution_count": 38,
      "outputs": []
    },
    {
      "cell_type": "markdown",
      "source": [
        "# **Roboflow Upload Routine**"
      ],
      "metadata": {
        "id": "G-RpiJzjJYYV"
      }
    },
    {
      "cell_type": "code",
      "source": [
        "!pip install roboflow\n",
        "!roboflow login\n",
        "!roboflow import -w akilli-atolye -p test-ppapj \"/content/drive/MyDrive/Colab Notebooks/Aptal Buzdolabı/outputs/yolo_dataset\""
      ],
      "metadata": {
        "id": "kKbHJgOeCRw1"
      },
      "execution_count": null,
      "outputs": []
    }
  ]
}